{
 "cells": [
  {
   "cell_type": "code",
   "execution_count": 90,
   "metadata": {
    "collapsed": false
   },
   "outputs": [],
   "source": [
    "# First, we will load up some dependencies. Make sure you can get through this part first. \n",
    "import numpy as np\n",
    "import matplotlib\n",
    "matplotlib.use('TkAgg')\n",
    "import matplotlib.pyplot as plt\n",
    "from IPython import display\n",
    "%matplotlib inline  "
   ]
  },
  {
   "cell_type": "markdown",
   "metadata": {},
   "source": [
    "Now we are going to load the data in. I have already saved off two images, a '9' and a '4', to keep things simple for us. We also reshape them into their native [28 x 28] size, so that we can later corrupt them in this domain, and then reconstruct them."
   ]
  },
  {
   "cell_type": "code",
   "execution_count": 35,
   "metadata": {
    "collapsed": false
   },
   "outputs": [],
   "source": [
    "data = (np.load('data_to_train_on.npy')).astype(np.float32).reshape(2,28,28)"
   ]
  },
  {
   "cell_type": "markdown",
   "metadata": {},
   "source": [
    "What does our data look like? Well they are just two binary images, showing a figure '9', and a figure '4'. Let's image them just to take a peek at what they look like. "
   ]
  },
  {
   "cell_type": "code",
   "execution_count": 36,
   "metadata": {
    "collapsed": false
   },
   "outputs": [
    {
     "data": {
      "image/png": "[encoded data removed]",
      "text/plain": [
       "<matplotlib.figure.Figure at 0x11810a3d0>"
      ]
     },
     "metadata": {},
     "output_type": "display_data"
    }
   ],
   "source": [
    "# Show the training data - it's just two different samples that we are going to want the Hopfield net to store.\n",
    "fig, ax = plt.subplots(nrows=1, ncols=2, figsize=(15,7.5))\n",
    "ax[0].imshow(data[0], interpolation='None', cmap='winter')\n",
    "ax[1].imshow(data[1], interpolation='None', cmap='winter')\n",
    "plt.show()"
   ]
  },
  {
   "cell_type": "code",
   "execution_count": 46,
   "metadata": {
    "collapsed": false
   },
   "outputs": [],
   "source": [
    "# Here, we will set some initial parameters, as well as define some helper functions used in the training and fielding\n",
    "# of the Hopfield net\n",
    "\n",
    "# This is a cool way to make it so that we can store ad-hoc members in a struct. I find it handy, where I use \n",
    "# \"N\" for \"number of things\", and \"I\" to keep track of various indices. Personal preference.\n",
    "N = lambda:0\n",
    "I = lambda:0\n",
    "\n",
    "# Train function for the hopfield net. (By updating the weights)\n",
    "def train_hopfield_weights(data, weights):\n",
    "    # data : A [d x rows x cols] numpy array of data. 'd' is the number of data samples used to train. (In this case 2)\n",
    "    # weights : A [rows*cols x rows*cols] matrix of the hopfield weights, initialized with 0s.\n",
    "\n",
    "    # First, we vectorize our data:\n",
    "    data = data.reshape((-1, 1, data.shape[1]*data.shape[2]))\n",
    "    \n",
    "    # Number of patterns to store/train with.\n",
    "    N.data = data.shape[0]    \n",
    "\n",
    "    # Loop through all data samples.\n",
    "    for dd in xrange(N.data):\n",
    "\n",
    "        # Data cross-product gives neural hopfield update rule.\n",
    "        w_update = data[dd].T * data[dd]\n",
    "        \n",
    "        # Sum all pattern cross-products.\n",
    "        weights += w_update\n",
    "\n",
    "    # Hopfield nets are a form of RNNs, albeit without self-connections, and so, we need to make sure that the \n",
    "    # diagonal elements of the final weight matrix are zero. \n",
    "    np.fill_diagonal(weights, 0)\n",
    "                \n",
    "    # Return our new weights\n",
    "    return (weights.astype(np.float32))\n",
    "\n",
    "\n",
    "# This function computes the Hopfield nets' energy.\n",
    "def energy(x, w):\n",
    "    # x: [1 x N] data vector\n",
    "    # w: [N x N] hopfield net weight matrix.\n",
    "    energy = -x.dot(w).dot(x.T)\n",
    "    return energy\n",
    "\n",
    "# We will use this function to take in a good image, and corrupt it, based on two types of noise, either bernouli noise,\n",
    "# (where every pixel is randomly flipped in sign), or masking noise, where we blot out entire sections of the image. Our\n",
    "# Hopfield net will be able to recover the original image via energy minimization as we will see.\n",
    "def corrupt_input(image_to_corrupt, method, bernouli_noise_probability = 0.1, mask_value = -1, mask_matrix=np.zeros((2,2))):\n",
    "    if method == 'bernouli':\n",
    "        noise_image = (-1*np.random.binomial(1, bernouli_noise_probability, (image_to_corrupt.shape[0], image_to_corrupt.shape[1]))).astype(np.float32)\n",
    "        noise_image[noise_image==0] = 1\n",
    "        corrupted_image = noise_image * image_to_corrupt\n",
    "    elif method == 'mask':\n",
    "        corrupted_image = np.copy(image_to_corrupt)\n",
    "        corrupted_image[mask_matrix[0,0]:mask_matrix[0,1], \n",
    "                        mask_matrix[1,0]:mask_matrix[1,1]] = mask_value\n",
    "\n",
    "    return corrupted_image    "
   ]
  },
  {
   "cell_type": "markdown",
   "metadata": {},
   "source": [
    "\n",
    "\n"
   ]
  },
  {
   "cell_type": "markdown",
   "metadata": {},
   "source": [
    "OK this is where the fun begins! We are now going to train our Hopfield net. The objective is simple: We want it to store those two patterns we are feeding it, such that a faithful reconstruction can be performed, when _corrupted_ versions of either of those inputs is given later in the future. "
   ]
  },
  {
   "cell_type": "code",
   "execution_count": 64,
   "metadata": {
    "collapsed": false
   },
   "outputs": [],
   "source": [
    "# Train the Hopfield net! \n",
    "\n",
    "# So there are as many neurons as pixels per pattern, and this is what this computes.\n",
    "N.neurons = data.shape[1] * data.shape[2]\n",
    "\n",
    "# The weight matrix encodes the relationships between neurons, in a Hebbian sense.\n",
    "weights = np.zeros((N.neurons, N.neurons)).astype(np.float32)\n",
    "\n",
    "# Great - we are all set - now we train! \n",
    "weights = train_hopfield_weights(data, weights)\n"
   ]
  },
  {
   "cell_type": "markdown",
   "metadata": {},
   "source": [
    "Now at this point, we have a trained weight matrix, encoded with the pattern '4' and pattern '9'. (We will see later on that Hopfield nets aren't that memory efficient, but it's still amazing what they are capable of). Now remember - the objective here is simple: We want it to store those two patterns we are feeding it, such that faithful reconstruction can later be performed, when _corrupted_ versions of either of those inputs are presented. But does it work? Let's find out! \n",
    "\n",
    "We can corrupt our data in many ways - and here, we can add two types of noise: Bernouli noise, (where every pixel is flipped in sign with a certain probability) and/or masking noise, (where we simply blot out certain regions with one particular sign).\n"
   ]
  },
  {
   "cell_type": "code",
   "execution_count": 72,
   "metadata": {
    "collapsed": false
   },
   "outputs": [
    {
     "data": {
      "image/png": "[encoded data removed]",
      "text/plain": [
       "<matplotlib.figure.Figure at 0x118398710>"
      ]
     },
     "metadata": {},
     "output_type": "display_data"
    }
   ],
   "source": [
    "# Let's pick one the image '4', and corrupt it.\n",
    "image = data[1]\n",
    "\n",
    "# Corrupt the image with bernouli noise.\n",
    "corrupted_image = corrupt_input(image, method='bernouli', bernouli_noise_probability=0.1)\n",
    "\n",
    "# Let's see the original image, as well as the corrupted version.\n",
    "fig, ax = plt.subplots(nrows=1, ncols=2, figsize=(15,7.5))\n",
    "ax[0].imshow(image, interpolation='None', cmap='winter')\n",
    "ax[1].imshow(corrupted_image, interpolation='None', cmap='winter')\n",
    "plt.show()\n"
   ]
  },
  {
   "cell_type": "markdown",
   "metadata": {},
   "source": [
    "This is the moment of truth: With a corrupted input now at hand, we then present this to our trained net, and hope that it denoises it. We do so by picking pixels at random, and then evaluating their activation functions, based on the current input configuration, (corrupted image), and the set weights, (that do not change here, as the net has already been trained). \n",
    "\n",
    "Since the Hopfield net stores patterns as minimal enery states, every iteration where we update a neuron/pixel should place the net into a lower energy configuration - that is - closer to the original pattern we stored - the weights are designed to do so after all."
   ]
  },
  {
   "cell_type": "code",
   "execution_count": 83,
   "metadata": {
    "collapsed": false
   },
   "outputs": [
    {
     "data": {
      "image/png": "[encoded data removed]",
      "text/plain": [
       "<matplotlib.figure.Figure at 0x118b4e550>"
      ]
     },
     "metadata": {},
     "output_type": "display_data"
    }
   ],
   "source": [
    "# (For imaging purposes)\n",
    "fig, ax = plt.subplots(nrows = 1, ncols = 2, figsize=(15, 7.5))\n",
    "ax[0].imshow(corrupted_image, interpolation='None', cmap='winter')\n",
    "ax[0].set_title('Corrupted Image')\n",
    "\n",
    "# The number of iterations where we randomly update neurons/pixels\n",
    "N.iterations = 5000\n",
    "\n",
    "# This will store the energy of the Hopfield net.\n",
    "energy_vec = np.zeros((1,N.iterations))\n",
    "\n",
    "# Loop through, and recover the image from it's corrupted self. (And vectorize)\n",
    "cleaned_image = np.copy(corrupted_image).reshape(1,784)\n",
    "for nn in xrange(N.iterations):\n",
    "\n",
    "    # Compute energy:\n",
    "    energy_vec[0,nn] = energy(cleaned_image, weights)\n",
    "\n",
    "    # Pick a neuron at random to evaluate.    \n",
    "    I.index_to_clean = np.random.randint(N.neurons)\n",
    "\n",
    "    cleaned_image[0,I.index_to_clean] = np.sign(cleaned_image.dot(weights[:,I.index_to_clean]))\n",
    "\n",
    "    # We will show the cleaned_image as it is being cleaned! (Image only every modulo 100 for speed)\n",
    "    if (nn % 100) == 0:\n",
    "        ax[1].cla()\n",
    "        ax[1].imshow(np.reshape(cleaned_image, (28,28)), interpolation='None', cmap='winter')\n",
    "        ax[1].set_title('Recovered Image')\n"
   ]
  },
  {
   "cell_type": "markdown",
   "metadata": {},
   "source": [
    "Our original pattern has been very nicely recovered. What about masking noise _and_ bernouli noise? Let's try that.\n"
   ]
  },
  {
   "cell_type": "code",
   "execution_count": 84,
   "metadata": {
    "collapsed": false
   },
   "outputs": [
    {
     "data": {
      "image/png": "[encoded data removed]",
      "text/plain": [
       "<matplotlib.figure.Figure at 0x117fd3fd0>"
      ]
     },
     "metadata": {},
     "output_type": "display_data"
    }
   ],
   "source": [
    "# Masking and Bernouli noise\n",
    "mask_matrix = np.zeros((2,2)).astype(np.int32)\n",
    "mask_matrix[0,0] = 7\n",
    "mask_matrix[0,1] = 20\n",
    "mask_matrix[1,0] = 8\n",
    "mask_matrix[1,1] = 25\n",
    "corrupted_image = corrupt_input(image, method='mask', mask_value=1, mask_matrix=mask_matrix)\n",
    "corrupted_image = corrupt_input(corrupted_image, method='bernouli', bernouli_noise_probability=0.1)\n",
    "fig, ax = plt.subplots(nrows=1, ncols=2, figsize=(15,7.5))\n",
    "ax[0].imshow(image, interpolation='None', cmap='winter')\n",
    "ax[1].imshow(corrupted_image, interpolation='None', cmap='winter')\n",
    "plt.show()\n"
   ]
  },
  {
   "cell_type": "markdown",
   "metadata": {},
   "source": [
    "Now that's one ugly looking '4'. Can we recover the hidden pattern?"
   ]
  },
  {
   "cell_type": "code",
   "execution_count": 86,
   "metadata": {
    "collapsed": false
   },
   "outputs": [
    {
     "data": {
      "image/png": "[encoded data removed]",
      "text/plain": [
       "<matplotlib.figure.Figure at 0x117955e50>"
      ]
     },
     "metadata": {},
     "output_type": "display_data"
    }
   ],
   "source": [
    "# (For imaging purposes)\n",
    "fig, ax = plt.subplots(nrows = 1, ncols = 2, figsize=(15, 7.5))\n",
    "ax[0].imshow(corrupted_image, interpolation='None', cmap='winter')\n",
    "ax[0].set_title('Corrupted Image')\n",
    "\n",
    "# The number of iterations where we randomly update neurons/pixels\n",
    "N.iterations = 5000\n",
    "\n",
    "# This will store the energy of the Hopfield net.\n",
    "energy_vec = np.zeros((1,N.iterations))\n",
    "\n",
    "# Loop through, and recover the image from it's corrupted self. (And vectorize)\n",
    "cleaned_image = np.copy(corrupted_image).reshape(1,784)\n",
    "for nn in xrange(N.iterations):\n",
    "\n",
    "    # Compute energy:\n",
    "    energy_vec[0,nn] = energy(cleaned_image, weights)\n",
    "\n",
    "    # Pick a neuron at random to evaluate.    \n",
    "    I.index_to_clean = np.random.randint(N.neurons)\n",
    "\n",
    "    # Update the neuron in question, based on it's activation.\n",
    "    cleaned_image[0,I.index_to_clean] = np.sign(cleaned_image.dot(weights[:,I.index_to_clean]))\n",
    "\n",
    "    # We will show the cleaned_image as it is being cleaned! (Image only every modulo 100 for speed)\n",
    "    if (nn % 100) == 0:\n",
    "        ax[1].cla()\n",
    "        ax[1].imshow(np.reshape(cleaned_image, (28,28)), interpolation='None', cmap='winter')\n",
    "        ax[1].set_title('Recovered Image')\n"
   ]
  },
  {
   "cell_type": "markdown",
   "metadata": {},
   "source": [
    "Marvelously recovered. The Hopfield energy plotted as the recovery iteration index is shown below. We can see that as the recovery process was being run, the total net energy was being decreased."
   ]
  },
  {
   "cell_type": "code",
   "execution_count": 93,
   "metadata": {
    "collapsed": false
   },
   "outputs": [
    {
     "data": {
      "image/png": "[encoded data removed]",
      "text/plain": [
       "<matplotlib.figure.Figure at 0x1186d4dd0>"
      ]
     },
     "metadata": {},
     "output_type": "display_data"
    }
   ],
   "source": [
    "# Plot the Hopfield energy during recovery\n",
    "plt.plot(energy_vec.T); plt.grid('on'); plt.show()"
   ]
  },
  {
   "cell_type": "markdown",
   "metadata": {
    "collapsed": false
   },
   "source": [
    "\n",
    "Now this is exactly what it means to be 'content addressable' - the fact that we are able to 'snap back' to a previous pattern among many patterns, starting from a corrupted variant was perhaps one of the first success stories of the associationist movement - Hopefield nets - totally connected RNNs, where the relationships between neurons/pixels are impressed into the weights as minimum energy states. In doing so, the iterative changing of neural activations becomes exactly like finding a configuration of least energy - something that is found in nature all the time.\n"
   ]
  }
 ],
 "metadata": {
  "kernelspec": {
   "display_name": "Python 2",
   "language": "python",
   "name": "python2"
  },
  "language_info": {
   "codemirror_mode": {
    "name": "ipython",
    "version": 2
   },
   "file_extension": ".py",
   "mimetype": "text/x-python",
   "name": "python",
   "nbconvert_exporter": "python",
   "pygments_lexer": "ipython2",
   "version": "2.7.13"
  }
 },
 "nbformat": 4,
 "nbformat_minor": 2
}
